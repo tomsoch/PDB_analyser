{
  "nbformat": 4,
  "nbformat_minor": 0,
  "metadata": {
    "colab": {
      "name": "Project_PDB.ipynb",
      "provenance": [],
      "collapsed_sections": [],
      "include_colab_link": true
    },
    "kernelspec": {
      "name": "python3",
      "display_name": "Python 3"
    }
  },
  "cells": [
    {
      "cell_type": "markdown",
      "metadata": {
        "id": "view-in-github",
        "colab_type": "text"
      },
      "source": [
        "<a href=\"https://colab.research.google.com/github/tomsoch/PDB_analyser/blob/main/Project_PDB.ipynb\" target=\"_parent\"><img src=\"https://colab.research.google.com/assets/colab-badge.svg\" alt=\"Open In Colab\"/></a>"
      ]
    },
    {
      "cell_type": "markdown",
      "metadata": {
        "id": "ni9_TQD_dH1v"
      },
      "source": [
        "#**Project PDB**"
      ]
    },
    {
      "cell_type": "markdown",
      "metadata": {
        "id": "bBqkf8BiPw1m"
      },
      "source": [
        "**Application:**\n",
        "\n",
        "1. Downloads any PDB file containing the protein to a directory on the Google Drive, based on the code provided by the user;\n",
        "2. Filters out the temperature factors for C$\\alpha$ atoms of the A chain along with the numbers of amino acid residues\n",
        "3. Counts the range of temperature factors (minimum and maximum), mean and standard deviation\n",
        "4. Asks the user to enter a threshold that will be used to filter out the highest temperature factors, and then prints the numbers of residues for which the temperature factors of C$\\alpha$ (CA) atoms are above the given threshold,\n",
        "5. Plots the values of temperature factors for C$\\alpha$ atoms as a function of the residue number and marks the values of temperature factors higher than the threshold specified by the user.\n",
        "\n",
        "\n"
      ]
    },
    {
      "cell_type": "code",
      "metadata": {
        "colab": {
          "base_uri": "https://localhost:8080/"
        },
        "id": "VpzniqdOxIIv",
        "outputId": "d2bbdef7-4d02-4263-dc89-772add8c8ca6"
      },
      "source": [
        "#tested for proteins: 1lys, 1e7w, 6lyz\n",
        "import requests                     \n",
        "import re \n",
        "import os \n",
        "import numpy as np\n",
        "import statistics\n",
        "import matplotlib.pyplot as plt\n",
        "from google.colab import drive \n",
        "drive.mount ('/content/drive')     "
      ],
      "execution_count": null,
      "outputs": [
        {
          "output_type": "stream",
          "text": [
            "Mounted at /content/drive\n"
          ],
          "name": "stdout"
        }
      ]
    },
    {
      "cell_type": "code",
      "metadata": {
        "id": "79A1AOMtM5Gl"
      },
      "source": [
        "def calculations (temp,precision):           \n",
        "  print (\"maximum: \", temp[len(temp)-1]) \n",
        "  print (\"minimum: \", temp[0])           \n",
        "  print(\"average value: \",round(statistics.mean(temp),precision))                  \n",
        "  print(\"standard deviation: \",round(statistics.stdev(temp),precision))  \n",
        "\n",
        "def print_residues(threshold,temp,amin):     \n",
        "  for i in range(len(temp)):           \n",
        "    if (temp[i]>threshold):                 \n",
        "      temp_above.append(temp[i])        \n",
        "      resid_above.append(amin[i])         \n",
        "      print(\"Amino acid residue number: \",amin[i]) \n",
        "\n",
        "def show_plot(amin,temp,threshold, resid_above, temp_above):           \n",
        "  amin, temp = zip(*sorted(zip(amin, temp)))                   \n",
        "  plt.plot(amin, temp,'-bo', markersize=4)                      \n",
        "  plt.style.use('seaborn')                                        \n",
        "  plt.xlabel('Amino acid residues')                              \n",
        "  plt.ylabel('Temperature factors [°C]')                           \n",
        "  plt.plot(resid_above,temp_above,'ro', markersize=5)                 \n",
        "  threshold_string = r\"$\\bf{\" +\"Threshold: \" + str(threshold)  + \" °C\"+ \"}$\"    \n",
        "  under = plt.Line2D([], [], color='blue', marker='o', linestyle='None', markersize=8, label='Under and equal to the threshold')\n",
        "  above = plt.Line2D([], [], color='red', marker='o', linestyle='None', markersize=8, label='Above the threshold')              \n",
        "  thres = plt.Line2D([], [], linestyle='None', markersize=8, label=threshold_string)     \n",
        "  plt.legend(title='Temperature factors for amino acid: '+ cz3,handles=[under, above, thres])        \n",
        "  plt.grid(True)                                    \n",
        "  plt.show()           \n",
        "\n"
      ],
      "execution_count": null,
      "outputs": []
    },
    {
      "cell_type": "code",
      "metadata": {
        "colab": {
          "base_uri": "https://localhost:8080/"
        },
        "id": "bZBjX4bSzBJb",
        "outputId": "943babf9-c170-4ace-ff62-01db60ca61d0"
      },
      "source": [
        "cz1 = \"/content/drive/My Drive/\"                         \n",
        "cz2 = \".pdb\"                                           \n",
        "cz3 = input(\"Please provide PDB code: \")                             \n",
        "cz4 = \"https://files.rcsb.org/download/\"                   \n",
        "my_file = cz1 + cz3 + cz2                                 \n",
        "\n",
        "if not os.path.exists(my_file):                         \n",
        "  url = cz4 + cz3 + cz2                                  \n",
        "  r = requests.get(url, allow_redirects=True)             \n",
        "  open(my_file, 'wb').write(r.content)                  \n",
        "\n",
        "text_pdb = open(my_file, 'r').read()                    \n",
        "list_title = re.findall(\"^TITLE.*\", text_pdb, re.MULTILINE)    \n",
        "list_title = [line.split() for line in list_title]    \n",
        "\n",
        "for line in list_title: \n",
        "  print(' '.join(line))                                  "
      ],
      "execution_count": null,
      "outputs": [
        {
          "output_type": "stream",
          "text": [
            "Please provide PDB code: 1lys\n",
            "TITLE X-RAY STRUCTURE OF A MONOCLINIC FORM OF HEN EGG-WHITE LYSOZYME\n",
            "TITLE 2 CRYSTALLIZED AT 313K. COMPARISON OF TWO INDEPENDENT MOLECULES\n"
          ],
          "name": "stdout"
        }
      ]
    },
    {
      "cell_type": "code",
      "metadata": {
        "colab": {
          "base_uri": "https://localhost:8080/"
        },
        "id": "AkImHldb-QDh",
        "outputId": "34d4ec02-abac-471a-a8a1-74b67ebbecf5"
      },
      "source": [
        "list_atom = re.findall(\"^ATOM.*\", text_pdb, re.MULTILINE)               \n",
        "filter = (\"ATOM\", \"CA\", \"A\")                                              \n",
        "temp = []                                                               \n",
        "amin = []                                                                 \n",
        "list_atom = [line.split() for line in list_atom]                      \n",
        "for line in list_atom:                                                   \n",
        "  if (line[0]==filter[0] and line[2]==filter[1] and line[4]==filter[2] ):  \n",
        "    z= len(line)-2                                                      \n",
        "    print (\"amino acid residue: \",line[5],\"temperature factor: \",line[(z)])                                                     \n",
        "    temp.append(float(line[(z)]))                                       \n",
        "    amin.append(float(line[5]))                                           \n",
        "if not temp:\n",
        "  print(\"List is empty, please check the input file\")  \n",
        "  for line in list_atom: print(line)\n",
        "temp, amin = zip(*sorted(zip(temp, amin)))                             "
      ],
      "execution_count": null,
      "outputs": [
        {
          "output_type": "stream",
          "text": [
            "amino acid residue:  1 temperature factor:  13.52\n",
            "amino acid residue:  2 temperature factor:  14.70\n",
            "amino acid residue:  3 temperature factor:  11.39\n",
            "amino acid residue:  4 temperature factor:  16.10\n",
            "amino acid residue:  5 temperature factor:  13.74\n",
            "amino acid residue:  6 temperature factor:  14.08\n",
            "amino acid residue:  7 temperature factor:  16.81\n",
            "amino acid residue:  8 temperature factor:  13.24\n",
            "amino acid residue:  9 temperature factor:  15.21\n",
            "amino acid residue:  10 temperature factor:  15.05\n",
            "amino acid residue:  11 temperature factor:  12.50\n",
            "amino acid residue:  12 temperature factor:  12.67\n",
            "amino acid residue:  13 temperature factor:  20.47\n",
            "amino acid residue:  14 temperature factor:  25.31\n",
            "amino acid residue:  15 temperature factor:  19.84\n",
            "amino acid residue:  16 temperature factor:  20.44\n",
            "amino acid residue:  17 temperature factor:  21.28\n",
            "amino acid residue:  18 temperature factor:  20.04\n",
            "amino acid residue:  19 temperature factor:  16.04\n",
            "amino acid residue:  20 temperature factor:  12.97\n",
            "amino acid residue:  21 temperature factor:  16.90\n",
            "amino acid residue:  22 temperature factor:  18.77\n",
            "amino acid residue:  23 temperature factor:  14.93\n",
            "amino acid residue:  24 temperature factor:  12.07\n",
            "amino acid residue:  25 temperature factor:  12.58\n",
            "amino acid residue:  26 temperature factor:  11.81\n",
            "amino acid residue:  27 temperature factor:  8.26\n",
            "amino acid residue:  28 temperature factor:  8.31\n",
            "amino acid residue:  29 temperature factor:  7.59\n",
            "amino acid residue:  30 temperature factor:  7.04\n",
            "amino acid residue:  31 temperature factor:  8.20\n",
            "amino acid residue:  32 temperature factor:  8.76\n",
            "amino acid residue:  33 temperature factor:  7.64\n",
            "amino acid residue:  34 temperature factor:  7.77\n",
            "amino acid residue:  35 temperature factor:  7.38\n",
            "amino acid residue:  36 temperature factor:  11.23\n",
            "amino acid residue:  37 temperature factor:  9.15\n",
            "amino acid residue:  38 temperature factor:  10.45\n",
            "amino acid residue:  39 temperature factor:  11.74\n",
            "amino acid residue:  40 temperature factor:  12.82\n",
            "amino acid residue:  41 temperature factor:  14.14\n",
            "amino acid residue:  42 temperature factor:  8.56\n",
            "amino acid residue:  43 temperature factor:  12.46\n",
            "amino acid residue:  44 temperature factor:  13.69\n",
            "amino acid residue:  45 temperature factor:  25.23\n",
            "amino acid residue:  46 temperature factor:  28.35\n",
            "amino acid residue:  47 temperature factor:  35.39\n",
            "amino acid residue:  48 temperature factor:  28.34\n",
            "amino acid residue:  49 temperature factor:  17.30\n",
            "amino acid residue:  50 temperature factor:  7.40\n",
            "amino acid residue:  51 temperature factor:  4.51\n",
            "amino acid residue:  52 temperature factor:  7.87\n",
            "amino acid residue:  53 temperature factor:  7.21\n",
            "amino acid residue:  54 temperature factor:  3.97\n",
            "amino acid residue:  55 temperature factor:  11.81\n",
            "amino acid residue:  56 temperature factor:  5.51\n",
            "amino acid residue:  57 temperature factor:  7.66\n",
            "amino acid residue:  58 temperature factor:  5.67\n",
            "amino acid residue:  59 temperature factor:  8.84\n",
            "amino acid residue:  60 temperature factor:  9.83\n",
            "amino acid residue:  61 temperature factor:  21.26\n",
            "amino acid residue:  62 temperature factor:  18.40\n",
            "amino acid residue:  63 temperature factor:  13.33\n",
            "amino acid residue:  64 temperature factor:  12.11\n",
            "amino acid residue:  65 temperature factor:  15.57\n",
            "amino acid residue:  66 temperature factor:  14.20\n",
            "amino acid residue:  67 temperature factor:  20.90\n",
            "amino acid residue:  68 temperature factor:  15.37\n",
            "amino acid residue:  69 temperature factor:  12.21\n",
            "amino acid residue:  70 temperature factor:  20.31\n",
            "amino acid residue:  71 temperature factor:  29.00\n",
            "amino acid residue:  72 temperature factor:  27.34\n",
            "amino acid residue:  73 temperature factor:  20.81\n",
            "amino acid residue:  74 temperature factor:  15.60\n",
            "amino acid residue:  75 temperature factor:  16.05\n",
            "amino acid residue:  76 temperature factor:  14.77\n",
            "amino acid residue:  77 temperature factor:  13.00\n",
            "amino acid residue:  78 temperature factor:  13.87\n",
            "amino acid residue:  79 temperature factor:  7.34\n",
            "amino acid residue:  80 temperature factor:  7.86\n",
            "amino acid residue:  81 temperature factor:  10.42\n",
            "amino acid residue:  82 temperature factor:  9.51\n",
            "amino acid residue:  83 temperature factor:  10.41\n",
            "amino acid residue:  84 temperature factor:  16.33\n",
            "amino acid residue:  85 temperature factor:  19.99\n",
            "amino acid residue:  86 temperature factor:  25.11\n",
            "amino acid residue:  87 temperature factor:  20.03\n",
            "amino acid residue:  88 temperature factor:  14.84\n",
            "amino acid residue:  89 temperature factor:  12.07\n",
            "amino acid residue:  90 temperature factor:  6.34\n",
            "amino acid residue:  91 temperature factor:  12.35\n",
            "amino acid residue:  92 temperature factor:  11.54\n",
            "amino acid residue:  93 temperature factor:  12.79\n",
            "amino acid residue:  94 temperature factor:  10.11\n",
            "amino acid residue:  95 temperature factor:  11.72\n",
            "amino acid residue:  96 temperature factor:  11.61\n",
            "amino acid residue:  97 temperature factor:  17.80\n",
            "amino acid residue:  98 temperature factor:  12.29\n",
            "amino acid residue:  99 temperature factor:  19.78\n",
            "amino acid residue:  100 temperature factor:  27.45\n",
            "amino acid residue:  101 temperature factor:  36.93\n",
            "amino acid residue:  102 temperature factor:  44.47\n",
            "amino acid residue:  103 temperature factor:  36.17\n",
            "amino acid residue:  104 temperature factor:  19.96\n",
            "amino acid residue:  105 temperature factor:  8.68\n",
            "amino acid residue:  106 temperature factor:  16.65\n",
            "amino acid residue:  107 temperature factor:  13.76\n",
            "amino acid residue:  108 temperature factor:  9.12\n",
            "amino acid residue:  109 temperature factor:  10.89\n",
            "amino acid residue:  110 temperature factor:  8.37\n",
            "amino acid residue:  111 temperature factor:  17.02\n",
            "amino acid residue:  112 temperature factor:  20.84\n",
            "amino acid residue:  113 temperature factor:  16.26\n",
            "amino acid residue:  114 temperature factor:  15.20\n",
            "amino acid residue:  115 temperature factor:  10.75\n",
            "amino acid residue:  116 temperature factor:  12.87\n",
            "amino acid residue:  117 temperature factor:  20.12\n",
            "amino acid residue:  118 temperature factor:  23.42\n",
            "amino acid residue:  119 temperature factor:  24.06\n",
            "amino acid residue:  120 temperature factor:  18.61\n",
            "amino acid residue:  121 temperature factor:  22.10\n",
            "amino acid residue:  122 temperature factor:  18.34\n",
            "amino acid residue:  123 temperature factor:  15.96\n",
            "amino acid residue:  124 temperature factor:  21.56\n",
            "amino acid residue:  125 temperature factor:  25.50\n",
            "amino acid residue:  126 temperature factor:  27.78\n",
            "amino acid residue:  127 temperature factor:  33.49\n",
            "amino acid residue:  128 temperature factor:  43.37\n",
            "amino acid residue:  129 temperature factor:  47.50\n"
          ],
          "name": "stdout"
        }
      ]
    },
    {
      "cell_type": "code",
      "metadata": {
        "id": "gH53Mbp5pEJY",
        "colab": {
          "base_uri": "https://localhost:8080/"
        },
        "outputId": "3d9ead94-6c97-475b-8803-7f25644030c8"
      },
      "source": [
        "precision = 3                             \n",
        "calculations(temp,precision)                "
      ],
      "execution_count": null,
      "outputs": [
        {
          "output_type": "stream",
          "text": [
            "maximum:  47.5\n",
            "minimum:  3.97\n",
            "average value:  16.001\n",
            "standard deviation:  8.099\n"
          ],
          "name": "stdout"
        }
      ]
    },
    {
      "cell_type": "code",
      "metadata": {
        "id": "kTS5aAlYo802",
        "colab": {
          "base_uri": "https://localhost:8080/"
        },
        "outputId": "06a676c1-4875-4014-ab97-177b7405fbb3"
      },
      "source": [
        "threshold = float(input(\"Temperature threshold for B-factor value: \")) \n",
        "resid_above =[]                          \n",
        "temp_above =[]                           \n",
        "\n",
        "print(\"Amino acid residue number above the: \",threshold,\"degrees sorted ascending by temperature factors: \")\n",
        "print_residues(threshold,temp,amin)           "
      ],
      "execution_count": null,
      "outputs": [
        {
          "output_type": "stream",
          "text": [
            "Temperature threshold for B-factor value: 25\n",
            "Amino acid residue number above the:  25.0 degrees sorted ascending by temperature factors: \n",
            "Amino acid residue number:  86.0\n",
            "Amino acid residue number:  45.0\n",
            "Amino acid residue number:  14.0\n",
            "Amino acid residue number:  125.0\n",
            "Amino acid residue number:  72.0\n",
            "Amino acid residue number:  100.0\n",
            "Amino acid residue number:  126.0\n",
            "Amino acid residue number:  48.0\n",
            "Amino acid residue number:  46.0\n",
            "Amino acid residue number:  71.0\n",
            "Amino acid residue number:  127.0\n",
            "Amino acid residue number:  47.0\n",
            "Amino acid residue number:  103.0\n",
            "Amino acid residue number:  101.0\n",
            "Amino acid residue number:  128.0\n",
            "Amino acid residue number:  102.0\n",
            "Amino acid residue number:  129.0\n"
          ],
          "name": "stdout"
        }
      ]
    },
    {
      "cell_type": "code",
      "metadata": {
        "id": "4mSbaUxe9biS",
        "colab": {
          "base_uri": "https://localhost:8080/",
          "height": 361
        },
        "outputId": "27d3c77b-b870-4b83-8eaf-c41107739a10"
      },
      "source": [
        "show_plot(amin,temp,threshold,resid_above,temp_above) "
      ],
      "execution_count": null,
      "outputs": [
        {
          "output_type": "display_data",
          "data": {
            "image/png": "[encoded data removed]",
            "text/plain": [
              "<Figure size 576x396 with 1 Axes>"
            ]
          },
          "metadata": {
            "tags": []
          }
        }
      ]
    }
  ]
}